{
 "cells": [
  {
   "cell_type": "code",
   "execution_count": 1,
   "metadata": {},
   "outputs": [],
   "source": [
    "import win32com\n",
    "from win32com.client.gencache import EnsureDispatch as Dispatch\n",
    "import re\n",
    "import os.path\n",
    "import glob\n",
    "import filetype\n",
    "\n",
    "def receive_email():\n",
    "    outlook = Dispatch('Outlook.Application')\n",
    "    mapi = outlook.GetNamespace('MAPI')\n",
    "    account_name = ' ' # Email address\n",
    "    inbox = mapi.Folders[account_name].Folders['Inbox']\n",
    "    inbox_mails = inbox.Items\n",
    "    newest = []\n",
    "    \n",
    "    # patterns = input('type the Subjects\\' names to search\\n (use \\';\\' to seperate) \\n(press Enter to continue)\\n').split(';')\n",
    "    pattern = [''] # Type your patterns here\n",
    "    \n",
    "    pattern_clean = []\n",
    "    for p in pattern:\n",
    "        pattern_clean.append(p.lower())\n",
    "\n",
    "    files = glob.glob(r\"\\\\Path\\*\")\n",
    "    for f in files:\n",
    "        os.remove(f)\n",
    "    \n",
    "    for i in pattern_clean:\n",
    "        find_pattern = re.compile(i)\n",
    "        for j in inbox_mails:\n",
    "            if find_pattern.findall(j.Subject.lower()) != []:\n",
    "                newest.append(j.ReceivedTime)\n",
    "            if find_pattern.findall(j.Subject.lower()) != [] and j.ReceivedTime == max(newest):\n",
    "                print(j.Subject.lower())\n",
    "                attachment = j.Attachments\n",
    "                for m in attachment:\n",
    "                    if m.FileName.endswith('.xlsx') or m.FileName.endswith('.xls'):\n",
    "                        print(m.FileName)\n",
    "                        m.SaveAsFile(r\" \"+ '\\\\' + m.FileName) # folder location\n",
    "                    \n",
    "\n",
    "if __name__ == '__main__':\n",
    "    receive_email()\n",
    "    print('working on it...')"
   ]
  },
  {
   "cell_type": "code",
   "execution_count": null,
   "metadata": {},
   "outputs": [],
   "source": []
  }
 ],
 "metadata": {
  "kernelspec": {
   "display_name": "Python 3",
   "language": "python",
   "name": "python3"
  },
  "language_info": {
   "codemirror_mode": {
    "name": "ipython",
    "version": 3
   },
   "file_extension": ".py",
   "mimetype": "text/x-python",
   "name": "python",
   "nbconvert_exporter": "python",
   "pygments_lexer": "ipython3",
   "version": "3.8.7"
  }
 },
 "nbformat": 4,
 "nbformat_minor": 4
}
