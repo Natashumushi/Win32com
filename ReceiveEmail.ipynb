{
 "cells": [
  {
   "cell_type": "code",
   "execution_count": 46,
   "metadata": {},
   "outputs": [
    {
     "name": "stdout",
     "output_type": "stream",
     "text": [
      "fw: bonded items on hold in support to screening-at-the hub - february 01th\n",
      "QTY on HOLD at the SLC - Feb 01th.xlsx\n",
      "fw: hold x nnet - october 26th\n",
      "Factory_NNET_HOLD_screening_10-26-2020.xlsx\n",
      "fw: inspect location inventory report  2021-2.2\n",
      "Inspection location Inventory report111.xls\n",
      "working on it...\n"
     ]
    }
   ],
   "source": [
    "import win32com\n",
    "from win32com.client.gencache import EnsureDispatch as Dispatch\n",
    "import re\n",
    "import os.path\n",
    "import glob\n",
    "import filetype\n",
    "\n",
    "def receive_email():\n",
    "    outlook = Dispatch('Outlook.Application')\n",
    "    mapi = outlook.GetNamespace('MAPI')\n",
    "    account_name = 'wei_zhou11@dell.com'\n",
    "    inbox = mapi.Folders[account_name].Folders['Inbox']\n",
    "    inbox_mails = inbox.Items\n",
    "    newest = []\n",
    "    \n",
    "    # patterns = input('type the Subjects\\' names to search\\n (use \\';\\' to seperate) \\n(press Enter to continue)\\n').split(';')\n",
    "    pattern = ['Bonded Items on HOLD in support to Screening-at-the Hub',\n",
    "              'Hold x NNeT',\n",
    "              'Real Time Inventory Report with Aging DELL VMI',\n",
    "              'Inspect location Inventory report',\n",
    "              'InventorySummaryReport']\n",
    "    \n",
    "    pattern_clean = []\n",
    "    for p in pattern:\n",
    "        pattern_clean.append(p.lower())\n",
    "\n",
    "    files = glob.glob(r\"\\\\w104cwjdb2\\WW_hub_hold\\*\")\n",
    "    for f in files:\n",
    "        os.remove(f)\n",
    "    \n",
    "    for i in pattern_clean:\n",
    "        find_pattern = re.compile(i)\n",
    "        for j in inbox_mails:\n",
    "            if find_pattern.findall(j.Subject.lower()) != []:\n",
    "                newest.append(j.ReceivedTime)\n",
    "            if find_pattern.findall(j.Subject.lower()) != [] and j.ReceivedTime == max(newest):\n",
    "                print(j.Subject.lower())\n",
    "                attachment = j.Attachments\n",
    "                for m in attachment:\n",
    "                    if m.FileName.endswith('.xlsx') or m.FileName.endswith('.xls'):\n",
    "                        print(m.FileName)\n",
    "                        m.SaveAsFile(r\"\\\\w104cwjdb2\\WW_hub_hold\"+ '\\\\' + m.FileName)\n",
    "                    \n",
    "\n",
    "if __name__ == '__main__':\n",
    "    receive_email()\n",
    "    print('working on it...')"
   ]
  },
  {
   "cell_type": "code",
   "execution_count": null,
   "metadata": {},
   "outputs": [],
   "source": []
  }
 ],
 "metadata": {
  "kernelspec": {
   "display_name": "Python 3",
   "language": "python",
   "name": "python3"
  },
  "language_info": {
   "codemirror_mode": {
    "name": "ipython",
    "version": 3
   },
   "file_extension": ".py",
   "mimetype": "text/x-python",
   "name": "python",
   "nbconvert_exporter": "python",
   "pygments_lexer": "ipython3",
   "version": "3.8.7"
  }
 },
 "nbformat": 4,
 "nbformat_minor": 4
}
